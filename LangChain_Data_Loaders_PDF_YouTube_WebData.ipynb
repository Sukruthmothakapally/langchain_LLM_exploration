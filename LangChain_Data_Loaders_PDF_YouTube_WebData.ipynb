{
  "cells": [
    {
      "cell_type": "markdown",
      "id": "e35052a0",
      "metadata": {
        "ExecuteTime": {
          "end_time": "2025-03-25T01:46:26.678260Z",
          "start_time": "2025-03-25T01:46:26.657208Z"
        },
        "id": "e35052a0"
      },
      "source": [
        "# Building Multi-Source Document Loaders with LangChain: PDF, YouTube, and Web Data Extraction"
      ]
    },
    {
      "cell_type": "code",
      "execution_count": 14,
      "id": "514157ec",
      "metadata": {
        "id": "514157ec"
      },
      "outputs": [],
      "source": [
        "# !pip install langchain"
      ]
    },
    {
      "cell_type": "code",
      "source": [
        "# !pip install -U langchain-community"
      ],
      "metadata": {
        "id": "t8Jmta92DjyN"
      },
      "id": "t8Jmta92DjyN",
      "execution_count": 15,
      "outputs": []
    },
    {
      "cell_type": "code",
      "source": [
        "# !pip install pypdf"
      ],
      "metadata": {
        "id": "JlogiZnOD1h7"
      },
      "id": "JlogiZnOD1h7",
      "execution_count": 16,
      "outputs": []
    },
    {
      "cell_type": "code",
      "execution_count": 18,
      "id": "de16c577",
      "metadata": {
        "id": "de16c577"
      },
      "outputs": [],
      "source": [
        "import openai\n",
        "openai.api_key  = \"xxxx\""
      ]
    },
    {
      "cell_type": "markdown",
      "id": "09e5c0a9",
      "metadata": {
        "id": "09e5c0a9"
      },
      "source": [
        "## PDFs\n",
        "### Let's load a dummy PDF transcript! These documents are the result of automated transcription so words and sentences are sometimes split unexpectedly."
      ]
    },
    {
      "cell_type": "code",
      "execution_count": 5,
      "id": "04b9ec4c",
      "metadata": {
        "colab": {
          "base_uri": "https://localhost:8080/"
        },
        "id": "04b9ec4c",
        "outputId": "5152b7d5-6022-4728-d4a3-7f79c07edcb5"
      },
      "outputs": [
        {
          "output_type": "stream",
          "name": "stdout",
          "text": [
            "This is a sample document to\n",
            "showcase page-based formatting. It\n",
            "contains a chapter from a Wikibook\n",
            "called Sensory Systems. None of the\n",
            "content has been changed in this\n",
            "article, but some content has been\n",
            "removed.\n",
            "Anatomy of the Somatosensory System\n",
            "FROM WIKIBOOKS1\n",
            "Our somatosensory system consists of sensors in the skin\n",
            "and sensors in our muscles, tendons, and joints. The re-\n",
            "ceptors in the skin, the so called cutaneous receptors, tell\n",
            "us about temperature (thermoreceptors), pressure and sur-\n",
            "face texture (mechano receptors), and pain (nociceptors).\n",
            "The receptors in muscles and joints provide information\n",
            "about muscle length, muscle tension, and joint angles.\n",
            "Cutaneous receptors\n",
            "Sensory information from Meissner corpuscles and rapidly\n",
            "adapting afferents leads to adjustment of grip force when\n",
            "objects are lifted. These afferents respond with a brief\n",
            "burst of action potentials when objects move a small dis-\n",
            "tance during the early stages of lifting. In response to\n",
            "Figure 1: Receptors in the hu-\n",
            "man skin: Mechanoreceptors can\n",
            "be free receptors or encapsulated.\n",
            "Examples for free receptors are\n",
            "the hair receptors at the roots of\n",
            "hairs. Encapsulated receptors are\n",
            "the Pacinian corpuscles and the\n",
            "receptors in the glabrous (hair-\n",
            "less) skin: Meissner corpuscles,\n",
            "Ruffini corpuscles and Merkel’s\n",
            "disks.\n",
            "Hairy skinGlabrous skin\n",
            "Epidermis\n",
            "Dermis\n",
            "Paciniancorpuscle\n",
            "Papillary Ridges\n",
            "Septa\n",
            "Ruffini’s corpuscle\n",
            "Hair receptor\n",
            "Meissner’scorpuscleSebaceousgland\n",
            "Free nerveendingMerkel’sreceptor\n",
            "1 The following description is based on lecture notes from Laszlo Zaborszky, from Rutgers University.\n",
            "1\n"
          ]
        }
      ],
      "source": [
        "import requests\n",
        "from langchain_community.document_loaders import PyPDFLoader\n",
        "\n",
        "# Step 1: Download the PDF file\n",
        "url = \"https://css4.pub/2015/textbook/somatosensory.pdf\"\n",
        "response = requests.get(url)\n",
        "\n",
        "# Save the file locally\n",
        "with open(\"somatosensory.pdf\", \"wb\") as file:\n",
        "    file.write(response.content)\n",
        "\n",
        "# Step 2: Load the local file using PyPDFLoader\n",
        "loader = PyPDFLoader(\"somatosensory.pdf\")\n",
        "pages = loader.load()\n",
        "\n",
        "# Check the content\n",
        "print(pages[0].page_content)"
      ]
    },
    {
      "cell_type": "markdown",
      "id": "e503aef6",
      "metadata": {
        "id": "e503aef6"
      },
      "source": [
        "- Each page is a Document.\n",
        "- A Document contains text (page_content) and metadata."
      ]
    },
    {
      "cell_type": "code",
      "execution_count": 6,
      "id": "a1a5a18b",
      "metadata": {
        "colab": {
          "base_uri": "https://localhost:8080/"
        },
        "id": "a1a5a18b",
        "outputId": "2a7e7327-646c-4eb7-f648-7074b89aa788"
      },
      "outputs": [
        {
          "output_type": "stream",
          "name": "stdout",
          "text": [
            "This is a sample document to\n",
            "showcase page-based formatting. It\n",
            "contains a chapter from a Wikibook\n",
            "called Sensory Systems. None of the\n",
            "content has been changed in this\n",
            "article, but some content has been\n",
            "removed.\n",
            "Anatomy of the Somatosensory System\n",
            "FROM WIKIBOOKS1\n",
            "Our somatosensory system consists of sensors in the skin\n",
            "and sensors in our muscles, tendons, and joints. The re-\n",
            "ceptors in the skin, the so called cutaneous receptors, tell\n",
            "us about temperature (thermoreceptors), pressure and sur-\n",
            "fac\n"
          ]
        },
        {
          "output_type": "execute_result",
          "data": {
            "text/plain": [
              "{'producer': 'Prince 20150210 (www.princexml.com)',\n",
              " 'creator': 'PyPDF',\n",
              " 'creationdate': '',\n",
              " 'title': 'Anatomy of the Somatosensory System',\n",
              " 'source': 'somatosensory.pdf',\n",
              " 'total_pages': 4,\n",
              " 'page': 0,\n",
              " 'page_label': '1'}"
            ]
          },
          "metadata": {},
          "execution_count": 6
        }
      ],
      "source": [
        "len(pages)\n",
        "page = pages[0]\n",
        "print(page.page_content[0:500])\n",
        "page.metadata"
      ]
    },
    {
      "cell_type": "markdown",
      "id": "947430af",
      "metadata": {
        "id": "947430af"
      },
      "source": [
        "## YouTube"
      ]
    },
    {
      "cell_type": "code",
      "execution_count": 7,
      "id": "acb00ecd",
      "metadata": {
        "id": "acb00ecd"
      },
      "outputs": [],
      "source": [
        "from langchain_community.document_loaders.generic import GenericLoader\n",
        "from langchain_community.document_loaders.parsers import OpenAIWhisperParser\n",
        "from langchain_community.document_loaders.blob_loaders import YoutubeAudioLoader"
      ]
    },
    {
      "cell_type": "code",
      "source": [
        "import os\n",
        "os.environ[\"OPENAI_API_KEY\"] = \"xxx\""
      ],
      "metadata": {
        "id": "GvPMuFALHAsn"
      },
      "id": "GvPMuFALHAsn",
      "execution_count": 19,
      "outputs": []
    },
    {
      "cell_type": "code",
      "execution_count": 17,
      "id": "832cbb0c",
      "metadata": {
        "id": "832cbb0c"
      },
      "outputs": [],
      "source": [
        "# !pip install yt_dlp\n",
        "# !pip install pydub"
      ]
    },
    {
      "cell_type": "code",
      "execution_count": 10,
      "id": "d40f9769",
      "metadata": {
        "colab": {
          "base_uri": "https://localhost:8080/"
        },
        "id": "d40f9769",
        "outputId": "60f23bf9-9a1b-47c9-a59d-e81a71d06648"
      },
      "outputs": [
        {
          "output_type": "stream",
          "name": "stdout",
          "text": [
            "[youtube] Extracting URL: https://www.youtube.com/watch?v=PnI-nMUxFjo\n",
            "[youtube] PnI-nMUxFjo: Downloading webpage\n",
            "[youtube] PnI-nMUxFjo: Downloading tv client config\n",
            "[youtube] PnI-nMUxFjo: Downloading player 4fcd6e4a\n",
            "[youtube] PnI-nMUxFjo: Downloading tv player API JSON\n",
            "[youtube] PnI-nMUxFjo: Downloading ios player API JSON\n",
            "[youtube] PnI-nMUxFjo: Downloading m3u8 information\n",
            "[info] PnI-nMUxFjo: Downloading 1 format(s): 140\n",
            "[download] Destination: docs/youtube//Design YouTube Shorts： System Design Interview with an L7 Senior Staff Google Engineer.m4a\n",
            "[download] 100% of    7.78MiB in 00:00:02 at 2.68MiB/s   \n",
            "[FixupM4a] Correcting container of \"docs/youtube//Design YouTube Shorts： System Design Interview with an L7 Senior Staff Google Engineer.m4a\"\n",
            "[ExtractAudio] Not converting audio docs/youtube//Design YouTube Shorts： System Design Interview with an L7 Senior Staff Google Engineer.m4a; file is already in target format m4a\n",
            "Transcribing part 1!\n"
          ]
        }
      ],
      "source": [
        "url=\"https://www.youtube.com/watch?v=PnI-nMUxFjo\"\n",
        "save_dir=\"docs/youtube/\"\n",
        "loader = GenericLoader(\n",
        "    YoutubeAudioLoader([url],save_dir),\n",
        "    OpenAIWhisperParser()\n",
        ")\n",
        "docs = loader.load()"
      ]
    },
    {
      "cell_type": "code",
      "execution_count": 11,
      "id": "f82572a3",
      "metadata": {
        "colab": {
          "base_uri": "https://localhost:8080/",
          "height": 70
        },
        "id": "f82572a3",
        "outputId": "45d558d3-3fe2-41e4-c523-e4cfc7bb81f0"
      },
      "outputs": [
        {
          "output_type": "execute_result",
          "data": {
            "text/plain": [
              "\"When it comes to the staff interview, I do remember the MVP here would be we should allow the users to just upload the videos just in a very slow or probably unreliable network, as you have called out. But here, just from the high-level design here, I want you to stick to the topics. I'm a senior staff engineer at Google. So basically, that would be the level seven. And yeah, after joining Google, I've conducted more than 300 interviews, ranging from coding behavior all the way to the engineer m\""
            ],
            "application/vnd.google.colaboratory.intrinsic+json": {
              "type": "string"
            }
          },
          "metadata": {},
          "execution_count": 11
        }
      ],
      "source": [
        "docs[0].page_content[0:500]"
      ]
    },
    {
      "cell_type": "markdown",
      "id": "45a0216d",
      "metadata": {
        "id": "45a0216d"
      },
      "source": [
        "## URLs"
      ]
    },
    {
      "cell_type": "code",
      "execution_count": 12,
      "id": "dfebce73",
      "metadata": {
        "colab": {
          "base_uri": "https://localhost:8080/"
        },
        "id": "dfebce73",
        "outputId": "c300bdef-c22e-4a38-9987-44f61b2a978e"
      },
      "outputs": [
        {
          "output_type": "stream",
          "name": "stderr",
          "text": [
            "WARNING:langchain_community.utils.user_agent:USER_AGENT environment variable not set, consider setting it to identify your requests.\n"
          ]
        }
      ],
      "source": [
        "from langchain.document_loaders import WebBaseLoader\n",
        "\n",
        "loader = WebBaseLoader(\"https://github.com/basecamp/handbook/blob/master/titles-for-programmers.md\")"
      ]
    },
    {
      "cell_type": "code",
      "execution_count": 13,
      "id": "8b6f0277",
      "metadata": {
        "colab": {
          "base_uri": "https://localhost:8080/"
        },
        "id": "8b6f0277",
        "outputId": "c9db8c47-9b78-448a-bea8-8e43d029734e"
      },
      "outputs": [
        {
          "output_type": "stream",
          "name": "stdout",
          "text": [
            "\n",
            "\n",
            "\n",
            "\n",
            "\n",
            "\n",
            "\n",
            "\n",
            "\n",
            "\n",
            "\n",
            "\n",
            "\n",
            "\n",
            "\n",
            "\n",
            "\n",
            "\n",
            "\n",
            "\n",
            "\n",
            "\n",
            "\n",
            "\n",
            "\n",
            "\n",
            "\n",
            "\n",
            "\n",
            "\n",
            "\n",
            "\n",
            "\n",
            "\n",
            "\n",
            "\n",
            "\n",
            "\n",
            "\n",
            "\n",
            "\n",
            "\n",
            "\n",
            "\n",
            "\n",
            "\n",
            "\n",
            "\n",
            "\n",
            "\n",
            "\n",
            "\n",
            "\n",
            "\n",
            "\n",
            "\n",
            "\n",
            "\n",
            "\n",
            "\n",
            "\n",
            "\n",
            "\n",
            "\n",
            "\n",
            "\n",
            "\n",
            "\n",
            "\n",
            "\n",
            "\n",
            "\n",
            "\n",
            "\n",
            "\n",
            "\n",
            "\n",
            "handbook/titles-for-programmers.md at master · basecamp/handbook · GitHub\n",
            "\n",
            "\n",
            "\n",
            "\n",
            "\n",
            "\n",
            "\n",
            "\n",
            "\n",
            "\n",
            "\n",
            "\n",
            "\n",
            "\n",
            "\n",
            "\n",
            "\n",
            "\n",
            "\n",
            "\n",
            "\n",
            "\n",
            "\n",
            "\n",
            "\n",
            "\n",
            "\n",
            "\n",
            "\n",
            "\n",
            "\n",
            "\n",
            "\n",
            "\n",
            "\n",
            "\n",
            "\n",
            "\n",
            "\n",
            "\n",
            "\n",
            "\n",
            "\n",
            "\n",
            "\n",
            "\n",
            "Skip to content\n",
            "\n",
            "\n",
            "\n",
            "\n",
            "\n",
            "\n",
            "\n",
            "\n",
            "\n",
            "\n",
            "\n",
            "\n",
            "\n",
            "Navigation Menu\n",
            "\n",
            "Toggle navigation\n",
            "\n",
            "\n",
            "\n",
            "\n",
            " \n",
            "\n",
            "\n",
            "\n",
            "\n",
            "\n",
            "\n",
            "\n",
            "\n",
            "\n",
            "\n",
            "\n",
            "\n",
            "\n",
            "            Sign in\n",
            "          \n",
            "\n",
            "\n",
            "\n",
            "\n",
            "\n",
            "\n",
            "\n",
            "\n",
            "        Product\n",
            "        \n",
            "\n",
            "\n",
            "\n",
            "\n",
            "\n",
            "\n",
            "\n",
            "\n",
            "\n",
            "\n",
            "\n",
            "\n",
            "\n",
            "GitHub Copilot\n",
            "        Write better code with AI\n",
            "      \n",
            "\n",
            "\n",
            "\n",
            "\n",
            "\n",
            "\n",
            "\n",
            "Security\n",
            "        Find and fix vulnerabilities\n",
            "      \n",
            "\n",
            "\n",
            "\n",
            "\n",
            "\n",
            "\n",
            "\n",
            "Actions\n",
            "        Auto\n"
          ]
        }
      ],
      "source": [
        "docs = loader.load()\n",
        "print(docs[0].page_content[:500])"
      ]
    },
    {
      "cell_type": "code",
      "execution_count": 13,
      "id": "b604d202",
      "metadata": {
        "id": "b604d202"
      },
      "outputs": [],
      "source": [
        ""
      ]
    },
    {
      "cell_type": "code",
      "source": [],
      "metadata": {
        "id": "Wd65sXYlAVH2"
      },
      "id": "Wd65sXYlAVH2",
      "execution_count": 13,
      "outputs": []
    }
  ],
  "metadata": {
    "kernelspec": {
      "display_name": "Python 3 (ipykernel)",
      "language": "python",
      "name": "python3"
    },
    "language_info": {
      "codemirror_mode": {
        "name": "ipython",
        "version": 3
      },
      "file_extension": ".py",
      "mimetype": "text/x-python",
      "name": "python",
      "nbconvert_exporter": "python",
      "pygments_lexer": "ipython3",
      "version": "3.9.18"
    },
    "colab": {
      "provenance": []
    }
  },
  "nbformat": 4,
  "nbformat_minor": 5
}