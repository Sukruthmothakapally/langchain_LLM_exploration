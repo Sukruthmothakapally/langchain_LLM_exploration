{
  "nbformat": 4,
  "nbformat_minor": 0,
  "metadata": {
    "colab": {
      "provenance": []
    },
    "kernelspec": {
      "name": "python3",
      "display_name": "Python 3"
    },
    "language_info": {
      "name": "python"
    }
  },
  "cells": [
    {
      "cell_type": "markdown",
      "source": [
        "# Vectorstores and Embeddings"
      ],
      "metadata": {
        "id": "lvX07WW5J5-f"
      }
    },
    {
      "cell_type": "code",
      "source": [
        "import openai\n",
        "openai.api_key  = \"xxx\""
      ],
      "metadata": {
        "id": "pSH2gEmfJ9oO"
      },
      "execution_count": 81,
      "outputs": []
    },
    {
      "cell_type": "code",
      "source": [
        "# !pip install -U langchain-community"
      ],
      "metadata": {
        "id": "zbVp0TsJLzbs"
      },
      "execution_count": 47,
      "outputs": []
    },
    {
      "cell_type": "code",
      "source": [
        "# !pip install pypdf"
      ],
      "metadata": {
        "id": "5IJOl4loL5Pg"
      },
      "execution_count": 48,
      "outputs": []
    },
    {
      "cell_type": "markdown",
      "source": [
        "Loading and Parsing PDF Documents"
      ],
      "metadata": {
        "id": "IX6wOaPzOYtm"
      }
    },
    {
      "cell_type": "code",
      "source": [
        "from langchain.document_loaders import PyPDFLoader\n",
        "\n",
        "# Load PDF\n",
        "pdf_loaders = [\n",
        "    # Duplicate documents on purpose - messy data\n",
        "    PyPDFLoader(\"/content/sample_data/sample_textbook.pdf\"),\n",
        "    PyPDFLoader(\"/content/sample_data/crime_data.pdf\")\n",
        "]\n",
        "document_list = []\n",
        "for pdf_loader in pdf_loaders:\n",
        "    document_list.extend(pdf_loader.load())"
      ],
      "metadata": {
        "id": "xxNzOrvjJ-D4"
      },
      "execution_count": 49,
      "outputs": []
    },
    {
      "cell_type": "markdown",
      "source": [
        "Configuring Text Splitter for Document Segmentation"
      ],
      "metadata": {
        "id": "o91dZABoOi9T"
      }
    },
    {
      "cell_type": "code",
      "source": [
        "from langchain.text_splitter import RecursiveCharacterTextSplitter\n",
        "\n",
        "doc_splitter = RecursiveCharacterTextSplitter(\n",
        "    chunk_size=600,\n",
        "    chunk_overlap=100\n",
        ")"
      ],
      "metadata": {
        "id": "5UEjqfDNJ-GU"
      },
      "execution_count": 50,
      "outputs": []
    },
    {
      "cell_type": "code",
      "source": [
        "document_chunks = doc_splitter.split_documents(document_list)"
      ],
      "metadata": {
        "id": "2VUGkMvbJ-Iw"
      },
      "execution_count": 51,
      "outputs": []
    },
    {
      "cell_type": "code",
      "source": [
        "len(document_chunks)"
      ],
      "metadata": {
        "colab": {
          "base_uri": "https://localhost:8080/"
        },
        "id": "t_YtAQy4J-LH",
        "outputId": "e1e14da8-0ec9-44de-8aa7-17e56c421179"
      },
      "execution_count": 52,
      "outputs": [
        {
          "output_type": "execute_result",
          "data": {
            "text/plain": [
              "31"
            ]
          },
          "metadata": {},
          "execution_count": 52
        }
      ]
    },
    {
      "cell_type": "markdown",
      "source": [
        "## Embeddings\n",
        "Let's take our splits and embed them."
      ],
      "metadata": {
        "id": "xRj-x21cKIxG"
      }
    },
    {
      "cell_type": "code",
      "source": [
        "import os\n",
        "os.environ[\"OPENAI_API_KEY\"] = \"xxx\""
      ],
      "metadata": {
        "id": "4P6JKxNCMYHa"
      },
      "execution_count": 82,
      "outputs": []
    },
    {
      "cell_type": "markdown",
      "source": [
        "Generating Embeddings Using OpenAIEmbeddings"
      ],
      "metadata": {
        "id": "sldT_YesOsFq"
      }
    },
    {
      "cell_type": "code",
      "source": [
        "from langchain.embeddings.openai import OpenAIEmbeddings\n",
        "embedding_model = OpenAIEmbeddings()"
      ],
      "metadata": {
        "id": "2mxhmvFYJ-NN"
      },
      "execution_count": 54,
      "outputs": []
    },
    {
      "cell_type": "markdown",
      "source": [
        "Embedding Sample Sentences for Similarity Testing"
      ],
      "metadata": {
        "id": "CEgSkB7lO2Ip"
      }
    },
    {
      "cell_type": "code",
      "source": [
        "query1 = \"The stock market experienced a significant surge.\"\n",
        "query2 = \"The financial markets saw a major rise in value.\"\n",
        "query3 = \"The weather today is extremely cold and rainy.\""
      ],
      "metadata": {
        "id": "x-vs-OCNJ-Pc"
      },
      "execution_count": 55,
      "outputs": []
    },
    {
      "cell_type": "code",
      "source": [
        "# !pip install tiktoken"
      ],
      "metadata": {
        "id": "cpDIkuYdMsse"
      },
      "execution_count": 56,
      "outputs": []
    },
    {
      "cell_type": "code",
      "source": [
        "embedding1 = embedding_model.embed_query(query1)\n",
        "embedding2 = embedding_model.embed_query(query2)\n",
        "embedding3 = embedding_model.embed_query(query3)"
      ],
      "metadata": {
        "id": "3p1bHDhGJ-Rz"
      },
      "execution_count": 57,
      "outputs": []
    },
    {
      "cell_type": "code",
      "source": [
        "import numpy as np"
      ],
      "metadata": {
        "id": "Rf6hfToLJ-UX"
      },
      "execution_count": 58,
      "outputs": []
    },
    {
      "cell_type": "markdown",
      "source": [
        "Calculating Cosine Similarity Between Embeddings"
      ],
      "metadata": {
        "id": "yoTXNYgTO-Ak"
      }
    },
    {
      "cell_type": "code",
      "source": [
        "np.dot(embedding1, embedding2)"
      ],
      "metadata": {
        "colab": {
          "base_uri": "https://localhost:8080/"
        },
        "id": "YvEC8x_rJ-Wf",
        "outputId": "e4ecf022-ef43-42cb-f3c9-1484a509a0a3"
      },
      "execution_count": 59,
      "outputs": [
        {
          "output_type": "execute_result",
          "data": {
            "text/plain": [
              "np.float64(0.9367377828059265)"
            ]
          },
          "metadata": {},
          "execution_count": 59
        }
      ]
    },
    {
      "cell_type": "code",
      "source": [
        "np.dot(embedding1, embedding3)"
      ],
      "metadata": {
        "colab": {
          "base_uri": "https://localhost:8080/"
        },
        "id": "Q1th-bqwJ-Yq",
        "outputId": "dbc2e887-b27c-4e0b-f571-1b583640b413"
      },
      "execution_count": 60,
      "outputs": [
        {
          "output_type": "execute_result",
          "data": {
            "text/plain": [
              "np.float64(0.730183633491168)"
            ]
          },
          "metadata": {},
          "execution_count": 60
        }
      ]
    },
    {
      "cell_type": "code",
      "source": [
        "np.dot(embedding2, embedding3)"
      ],
      "metadata": {
        "colab": {
          "base_uri": "https://localhost:8080/"
        },
        "id": "T-aNvLd2J-bI",
        "outputId": "b7e69069-bad8-4336-d48e-d9e4e12ab61f"
      },
      "execution_count": 61,
      "outputs": [
        {
          "output_type": "execute_result",
          "data": {
            "text/plain": [
              "np.float64(0.7200210410390958)"
            ]
          },
          "metadata": {},
          "execution_count": 61
        }
      ]
    },
    {
      "cell_type": "markdown",
      "source": [
        "## Vectorstores"
      ],
      "metadata": {
        "id": "KgWz2nhFKVJY"
      }
    },
    {
      "cell_type": "code",
      "source": [
        "# !pip install chromadb"
      ],
      "metadata": {
        "id": "Kd8Rzhl_J-di"
      },
      "execution_count": 62,
      "outputs": []
    },
    {
      "cell_type": "code",
      "source": [
        "from langchain.vectorstores import Chroma"
      ],
      "metadata": {
        "id": "0UtbcFacJ-f8"
      },
      "execution_count": 63,
      "outputs": []
    },
    {
      "cell_type": "code",
      "source": [
        "vectorstore_directory = 'docs/chroma/'"
      ],
      "metadata": {
        "id": "n2Y8YAbTJ-iO"
      },
      "execution_count": 64,
      "outputs": []
    },
    {
      "cell_type": "code",
      "source": [
        "!rm -rf ./vectorstore_data/chroma"
      ],
      "metadata": {
        "id": "KgKmcBuFJ-kt"
      },
      "execution_count": 69,
      "outputs": []
    },
    {
      "cell_type": "code",
      "source": [
        "vector_database = Chroma.from_documents(\n",
        "    documents=document_chunks,\n",
        "    embedding=embedding_model,\n",
        "    persist_directory=None  # Use None for in-memory store\n",
        ")"
      ],
      "metadata": {
        "id": "OU9odgGLJ-np"
      },
      "execution_count": 72,
      "outputs": []
    },
    {
      "cell_type": "code",
      "source": [
        "print(vector_database._collection.count())"
      ],
      "metadata": {
        "colab": {
          "base_uri": "https://localhost:8080/"
        },
        "id": "6TsxMfqaJ-qV",
        "outputId": "4171e4e6-a375-40f4-a2e4-bc5c1ef81e10"
      },
      "execution_count": 73,
      "outputs": [
        {
          "output_type": "stream",
          "name": "stdout",
          "text": [
            "31\n"
          ]
        }
      ]
    },
    {
      "cell_type": "markdown",
      "source": [
        "Performing Similarity Search for Query"
      ],
      "metadata": {
        "id": "bC7rbBx_KfHu"
      }
    },
    {
      "cell_type": "code",
      "source": [
        "user_query = \"What are the latest advancements in AI technologies?\"\n",
        "results = vector_database.similarity_search(user_query, k=3)"
      ],
      "metadata": {
        "id": "IncMqMzQJ-tB"
      },
      "execution_count": 74,
      "outputs": []
    },
    {
      "cell_type": "code",
      "source": [
        "len(results)"
      ],
      "metadata": {
        "colab": {
          "base_uri": "https://localhost:8080/"
        },
        "id": "5Ek5k-gtJ_jC",
        "outputId": "754c5e65-f7fc-437c-a53b-4af34d0a65ee"
      },
      "execution_count": 75,
      "outputs": [
        {
          "output_type": "execute_result",
          "data": {
            "text/plain": [
              "3"
            ]
          },
          "metadata": {},
          "execution_count": 75
        }
      ]
    },
    {
      "cell_type": "code",
      "source": [
        "results[0].page_content"
      ],
      "metadata": {
        "colab": {
          "base_uri": "https://localhost:8080/",
          "height": 53
        },
        "id": "eaPakDs9J_l0",
        "outputId": "e47b0e14-8ed4-4768-d30d-dd89aa73816f"
      },
      "execution_count": 76,
      "outputs": [
        {
          "output_type": "execute_result",
          "data": {
            "text/plain": [
              "\"and mental health outcomes of children and adolescents. Dev Psychopathol \\n2009; 21(1):227-259. \\n2. Takagi D, Ken'ichi I, Kawachi I. Neighborhood social capital and crime\""
            ],
            "application/vnd.google.colaboratory.intrinsic+json": {
              "type": "string"
            }
          },
          "metadata": {},
          "execution_count": 76
        }
      ]
    },
    {
      "cell_type": "code",
      "source": [
        "vector_database.persist()"
      ],
      "metadata": {
        "id": "Ji3PAbi7J_oN"
      },
      "execution_count": 77,
      "outputs": []
    },
    {
      "cell_type": "markdown",
      "source": [
        "## Failure modes\n",
        "This seems great, and basic similarity search will get you 80% of the way there very easily.\n",
        "\n",
        "But there are some failure modes that can creep up.\n",
        "\n",
        "Here are some edge cases that can arise - we'll fix them in the next class."
      ],
      "metadata": {
        "id": "JImti0TCKtaD"
      }
    },
    {
      "cell_type": "markdown",
      "source": [
        "Testing Similarity Search with Another Query"
      ],
      "metadata": {
        "id": "uY411cCiPh5F"
      }
    },
    {
      "cell_type": "code",
      "source": [
        "new_query = \"How do quantum computers function?\"\n",
        "retrieved_docs = vector_database.similarity_search(new_query, k=5)"
      ],
      "metadata": {
        "id": "ll2BEwJnJ_qn"
      },
      "execution_count": 78,
      "outputs": []
    },
    {
      "cell_type": "markdown",
      "source": [
        "Notice that we're getting duplicate chunks (because of the duplicate MachineLearning-Lecture01.pdf in the index).\n",
        "\n",
        "Semantic search fetches all similar documents, but does not enforce diversity.\n",
        "\n",
        "docs[0] and docs[1] are indentical."
      ],
      "metadata": {
        "id": "jC-8-DQWKznJ"
      }
    },
    {
      "cell_type": "code",
      "source": [
        "for doc in retrieved_docs:\n",
        "    print(doc.metadata)"
      ],
      "metadata": {
        "colab": {
          "base_uri": "https://localhost:8080/"
        },
        "id": "CtKRO4r1KwRF",
        "outputId": "15f65949-5db8-4098-eec5-29852ec6bd70"
      },
      "execution_count": 79,
      "outputs": [
        {
          "output_type": "stream",
          "name": "stdout",
          "text": [
            "{'creationdate': '', 'creator': 'PyPDF', 'page': 3, 'page_label': '4', 'producer': 'Prince 20150210 (www.princexml.com)', 'source': '/content/sample_data/sample_textbook.pdf', 'title': 'Anatomy of the Somatosensory System', 'total_pages': 4}\n",
            "{'creationdate': '', 'creator': 'PyPDF', 'page': 0, 'page_label': '1', 'producer': 'Prince 20150210 (www.princexml.com)', 'source': '/content/sample_data/sample_textbook.pdf', 'title': 'Anatomy of the Somatosensory System', 'total_pages': 4}\n",
            "{'creationdate': '', 'creator': 'PyPDF', 'page': 2, 'page_label': '3', 'producer': 'Prince 20150210 (www.princexml.com)', 'source': '/content/sample_data/sample_textbook.pdf', 'title': 'Anatomy of the Somatosensory System', 'total_pages': 4}\n",
            "{'creationdate': '', 'creator': 'PyPDF', 'page': 1, 'page_label': '2', 'producer': 'Prince 20150210 (www.princexml.com)', 'source': '/content/sample_data/sample_textbook.pdf', 'title': 'Anatomy of the Somatosensory System', 'total_pages': 4}\n",
            "{'creationdate': '', 'creator': 'PyPDF', 'page': 2, 'page_label': '3', 'producer': 'Prince 20150210 (www.princexml.com)', 'source': '/content/sample_data/sample_textbook.pdf', 'title': 'Anatomy of the Somatosensory System', 'total_pages': 4}\n"
          ]
        }
      ]
    },
    {
      "cell_type": "markdown",
      "source": [
        "Displaying Content of a Retrieved Document"
      ],
      "metadata": {
        "id": "p71pgHweP7LU"
      }
    },
    {
      "cell_type": "code",
      "source": [
        "print(retrieved_docs[4].page_content)"
      ],
      "metadata": {
        "colab": {
          "base_uri": "https://localhost:8080/"
        },
        "id": "0GAW5fXePvGl",
        "outputId": "bd8d96c1-36b3-4ddb-d9b9-125675ff649e"
      },
      "execution_count": 80,
      "outputs": [
        {
          "output_type": "stream",
          "name": "stdout",
          "text": [
            "sidenotes are shown in the outside\n",
            "margin (on the left or right, depending\n",
            "on whether the page is left or right).\n",
            "Also, figures are floated to the top/\n",
            "bottom of the page. Wide content, like\n",
            "the table and Figure 3, intrude into the\n",
            "outside margins.\n",
            "or polymodal receptors. Polymodal receptors respond not\n",
            "only to intense mechanical stimuli, but also to heat and\n",
            "to noxious chemicals. These receptors respond to minute\n",
            "punctures of the epithelium, with a response magnitude\n",
            "that depends on the degree of tissue deformation. They al-\n",
            "so respond to temperatures in the range of 40–60°C, and\n"
          ]
        }
      ]
    },
    {
      "cell_type": "markdown",
      "source": [],
      "metadata": {
        "id": "ljXo2zr7JuRf"
      }
    }
  ]
}