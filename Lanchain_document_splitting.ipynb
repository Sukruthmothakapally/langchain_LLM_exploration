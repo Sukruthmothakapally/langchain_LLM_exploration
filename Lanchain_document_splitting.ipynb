{
  "nbformat": 4,
  "nbformat_minor": 0,
  "metadata": {
    "colab": {
      "provenance": []
    },
    "kernelspec": {
      "name": "python3",
      "display_name": "Python 3"
    },
    "language_info": {
      "name": "python"
    }
  },
  "cells": [
    {
      "cell_type": "markdown",
      "source": [
        "# Document Splitting"
      ],
      "metadata": {
        "id": "r0Y35Qh8BYE0"
      }
    },
    {
      "cell_type": "code",
      "source": [
        "import openai\n",
        "openai.api_key  = \"xxx\""
      ],
      "metadata": {
        "id": "6FTzEfUGBXFQ"
      },
      "execution_count": 89,
      "outputs": []
    },
    {
      "cell_type": "code",
      "source": [
        "from langchain.text_splitter import RecursiveCharacterTextSplitter, CharacterTextSplitter"
      ],
      "metadata": {
        "id": "PhW_qNj_Bcw5"
      },
      "execution_count": 54,
      "outputs": []
    },
    {
      "cell_type": "code",
      "source": [
        "max_segment_length = 50\n",
        "segment_overlap_size = 10"
      ],
      "metadata": {
        "id": "SRROIJp8Bczl"
      },
      "execution_count": 55,
      "outputs": []
    },
    {
      "cell_type": "code",
      "source": [
        "rec_text_splitter = RecursiveCharacterTextSplitter(\n",
        "    chunk_size=max_segment_length,\n",
        "    chunk_overlap=segment_overlap_size\n",
        ")\n",
        "char_text_splitter = CharacterTextSplitter(\n",
        "    chunk_size=max_segment_length,\n",
        "    chunk_overlap=segment_overlap_size\n",
        ")"
      ],
      "metadata": {
        "id": "0WYWVoooBc14"
      },
      "execution_count": 56,
      "outputs": []
    },
    {
      "cell_type": "code",
      "source": [
        "sample_text1 = \"Lorem Ipsum Dolor Sit Amet, Consectetur Adipiscing Elit. Sed Do Eiusmod Tempor Incididunt Ut Labore Et Dolore Magna.\"\n",
        "print(rec_text_splitter.split_text(sample_text1))\n",
        "\n",
        "sample_text2 = \"Nulla Facilisi. Phasellus Imperdiet, Nulla Et Dictum Interdum, Nisi Lorem Efficitur Ipsum, At Volutpat Augue Nulla Ut Ipsum.\"\n",
        "print(rec_text_splitter.split_text(sample_text2))"
      ],
      "metadata": {
        "colab": {
          "base_uri": "https://localhost:8080/"
        },
        "id": "gZt8lOltBc4D",
        "outputId": "90310122-e446-4165-cd9e-c72af0f47f3d"
      },
      "execution_count": 57,
      "outputs": [
        {
          "output_type": "stream",
          "name": "stdout",
          "text": [
            "['Lorem Ipsum Dolor Sit Amet, Consectetur Adipiscing', 'Elit. Sed Do Eiusmod Tempor Incididunt Ut Labore', 'Ut Labore Et Dolore Magna.']\n",
            "['Nulla Facilisi. Phasellus Imperdiet, Nulla Et', 'Nulla Et Dictum Interdum, Nisi Lorem Efficitur', 'Efficitur Ipsum, At Volutpat Augue Nulla Ut', 'Nulla Ut Ipsum.']\n"
          ]
        }
      ]
    },
    {
      "cell_type": "code",
      "source": [
        "complex_text = \"The quick brown fox jumps over the lazy dog. In a distant galaxy, far beyond the stars, the intergalactic council convenes to discuss peace treaties between warring factions. Meanwhile, Earth continues its cycle of life, unaffected by the grand schemes of the universe.\""
      ],
      "metadata": {
        "id": "fdc2M9FbBc65"
      },
      "execution_count": 58,
      "outputs": []
    },
    {
      "cell_type": "code",
      "source": [
        "rec_text_splitter.split_text(complex_text)"
      ],
      "metadata": {
        "colab": {
          "base_uri": "https://localhost:8080/"
        },
        "id": "Jw7qxUecBc9G",
        "outputId": "eb5912c1-0a0c-4a47-ad72-73b19028cb4a"
      },
      "execution_count": 59,
      "outputs": [
        {
          "output_type": "execute_result",
          "data": {
            "text/plain": [
              "['The quick brown fox jumps over the lazy dog. In a',\n",
              " 'dog. In a distant galaxy, far beyond the stars,',\n",
              " 'stars, the intergalactic council convenes to',\n",
              " 'to discuss peace treaties between warring',\n",
              " 'warring factions. Meanwhile, Earth continues its',\n",
              " 'its cycle of life, unaffected by the grand',\n",
              " 'the grand schemes of the universe.']"
            ]
          },
          "metadata": {},
          "execution_count": 59
        }
      ]
    },
    {
      "cell_type": "code",
      "source": [
        "char_text_splitter.split_text(complex_text)"
      ],
      "metadata": {
        "colab": {
          "base_uri": "https://localhost:8080/"
        },
        "id": "k-3oVIYHBdLD",
        "outputId": "18b9c399-1c6e-446d-fcc6-7583ff3a5ca5"
      },
      "execution_count": 60,
      "outputs": [
        {
          "output_type": "execute_result",
          "data": {
            "text/plain": [
              "['The quick brown fox jumps over the lazy dog. In a distant galaxy, far beyond the stars, the intergalactic council convenes to discuss peace treaties between warring factions. Meanwhile, Earth continues its cycle of life, unaffected by the grand schemes of the universe.']"
            ]
          },
          "metadata": {},
          "execution_count": 60
        }
      ]
    },
    {
      "cell_type": "code",
      "source": [
        "char_text_splitter = CharacterTextSplitter(\n",
        "    chunk_size=max_segment_length,\n",
        "    chunk_overlap=segment_overlap_size,\n",
        "    separator=' '\n",
        ")\n",
        "char_text_splitter.split_text(complex_text)"
      ],
      "metadata": {
        "colab": {
          "base_uri": "https://localhost:8080/"
        },
        "id": "DHQ_v4fZBdOF",
        "outputId": "13bbe694-c539-41ad-f310-611024efc1a3"
      },
      "execution_count": 61,
      "outputs": [
        {
          "output_type": "execute_result",
          "data": {
            "text/plain": [
              "['The quick brown fox jumps over the lazy dog. In a',\n",
              " 'dog. In a distant galaxy, far beyond the stars,',\n",
              " 'the stars, the intergalactic council convenes to',\n",
              " 'to discuss peace treaties between warring',\n",
              " 'warring factions. Meanwhile, Earth continues its',\n",
              " 'its cycle of life, unaffected by the grand schemes',\n",
              " 'schemes of the universe.']"
            ]
          },
          "metadata": {},
          "execution_count": 61
        }
      ]
    },
    {
      "cell_type": "markdown",
      "source": [
        "# Recursive splitting details"
      ],
      "metadata": {
        "id": "ZUinxJGeB3Mf"
      }
    },
    {
      "cell_type": "code",
      "source": [
        "large_text_block = \"\"\"\n",
        "In the world of artificial intelligence, models are rapidly evolving.\n",
        "The process of training these models involves vast amounts of data,\n",
        "which must be divided into manageable chunks for efficient processing.\n",
        "\n",
        "Researchers and engineers work tirelessly to refine algorithms, ensuring\n",
        "that AI systems can comprehend and generate human-like text. Despite\n",
        "significant advancements, challenges such as bias, data privacy, and\n",
        "contextual understanding remain prominent.\n",
        "\n",
        "The future of AI depends on addressing these concerns while pushing the\n",
        "boundaries of what technology can achieve. New techniques continue to\n",
        "emerge, each offering potential solutions to longstanding problems.\n",
        "\"\"\""
      ],
      "metadata": {
        "id": "kWy5rJvhBdTF"
      },
      "execution_count": 62,
      "outputs": []
    },
    {
      "cell_type": "code",
      "source": [
        "len(large_text_block)"
      ],
      "metadata": {
        "colab": {
          "base_uri": "https://localhost:8080/"
        },
        "id": "Og0ZJH4aBdWD",
        "outputId": "4d04b575-e52a-48e7-9c96-54cff776c3e0"
      },
      "execution_count": 63,
      "outputs": [
        {
          "output_type": "execute_result",
          "data": {
            "text/plain": [
              "684"
            ]
          },
          "metadata": {},
          "execution_count": 63
        }
      ]
    },
    {
      "cell_type": "code",
      "source": [
        "char_text_splitter = CharacterTextSplitter(\n",
        "    chunk_size=400,\n",
        "    chunk_overlap=50,\n",
        "    separator=' '\n",
        ")\n",
        "rec_text_splitter = RecursiveCharacterTextSplitter(\n",
        "    chunk_size=400,\n",
        "    chunk_overlap=50,\n",
        "    separators=[\"\\n\\n\", \"\\n\", \" \", \"\"]\n",
        ")"
      ],
      "metadata": {
        "id": "R9d2l5ggBdYN"
      },
      "execution_count": 64,
      "outputs": []
    },
    {
      "cell_type": "code",
      "source": [
        "char_text_splitter.split_text(large_text_block)"
      ],
      "metadata": {
        "colab": {
          "base_uri": "https://localhost:8080/"
        },
        "id": "waPVQlJ3CAHQ",
        "outputId": "085b3d34-9a5e-4677-e770-42d90dd9c12c"
      },
      "execution_count": 65,
      "outputs": [
        {
          "output_type": "execute_result",
          "data": {
            "text/plain": [
              "['In the world of artificial intelligence, models are rapidly evolving. \\nThe process of training these models involves vast amounts of data, \\nwhich must be divided into manageable chunks for efficient processing. \\n\\nResearchers and engineers work tirelessly to refine algorithms, ensuring \\nthat AI systems can comprehend and generate human-like text. Despite \\nsignificant advancements, challenges such',\n",
              " 'Despite \\nsignificant advancements, challenges such as bias, data privacy, and \\ncontextual understanding remain prominent.\\n\\nThe future of AI depends on addressing these concerns while pushing the \\nboundaries of what technology can achieve. New techniques continue to \\nemerge, each offering potential solutions to longstanding problems.']"
            ]
          },
          "metadata": {},
          "execution_count": 65
        }
      ]
    },
    {
      "cell_type": "code",
      "source": [
        "rec_text_splitter.split_text(large_text_block)"
      ],
      "metadata": {
        "colab": {
          "base_uri": "https://localhost:8080/"
        },
        "id": "oraPXVh1CAJ4",
        "outputId": "63c1eabb-91c2-4708-b867-ac31f331e3bf"
      },
      "execution_count": 66,
      "outputs": [
        {
          "output_type": "execute_result",
          "data": {
            "text/plain": [
              "['In the world of artificial intelligence, models are rapidly evolving. \\nThe process of training these models involves vast amounts of data, \\nwhich must be divided into manageable chunks for efficient processing.',\n",
              " 'Researchers and engineers work tirelessly to refine algorithms, ensuring \\nthat AI systems can comprehend and generate human-like text. Despite \\nsignificant advancements, challenges such as bias, data privacy, and \\ncontextual understanding remain prominent.',\n",
              " 'The future of AI depends on addressing these concerns while pushing the \\nboundaries of what technology can achieve. New techniques continue to \\nemerge, each offering potential solutions to longstanding problems.']"
            ]
          },
          "metadata": {},
          "execution_count": 66
        }
      ]
    },
    {
      "cell_type": "markdown",
      "source": [
        "Let's reduce the chunk size a bit and add a period to our separators:"
      ],
      "metadata": {
        "id": "IYNb4gCKCEeK"
      }
    },
    {
      "cell_type": "code",
      "source": [
        "r_splitter = RecursiveCharacterTextSplitter(\n",
        "    chunk_size=150,\n",
        "    chunk_overlap=0,\n",
        "    separators=[\"\\n\\n\", \"\\n\", \"\\. \", \" \", \"\"]\n",
        ")\n",
        "r_splitter.split_text(large_text_block)"
      ],
      "metadata": {
        "colab": {
          "base_uri": "https://localhost:8080/"
        },
        "id": "ZkmF_v7VCAMM",
        "outputId": "8c4bde46-c4c9-482e-c9ee-58daf16c8056"
      },
      "execution_count": 67,
      "outputs": [
        {
          "output_type": "execute_result",
          "data": {
            "text/plain": [
              "['In the world of artificial intelligence, models are rapidly evolving. \\nThe process of training these models involves vast amounts of data,',\n",
              " 'which must be divided into manageable chunks for efficient processing.',\n",
              " 'Researchers and engineers work tirelessly to refine algorithms, ensuring \\nthat AI systems can comprehend and generate human-like text. Despite',\n",
              " 'significant advancements, challenges such as bias, data privacy, and \\ncontextual understanding remain prominent.',\n",
              " 'The future of AI depends on addressing these concerns while pushing the \\nboundaries of what technology can achieve. New techniques continue to',\n",
              " 'emerge, each offering potential solutions to longstanding problems.']"
            ]
          },
          "metadata": {},
          "execution_count": 67
        }
      ]
    },
    {
      "cell_type": "code",
      "source": [
        "# !pip install -U langchain-community"
      ],
      "metadata": {
        "id": "qBicrl-UEU7v"
      },
      "execution_count": 68,
      "outputs": []
    },
    {
      "cell_type": "code",
      "source": [
        "# !pip install pypdf"
      ],
      "metadata": {
        "id": "XJF3y3VqEqnv"
      },
      "execution_count": 69,
      "outputs": []
    },
    {
      "cell_type": "code",
      "source": [
        "from langchain.document_loaders import PyPDFLoader\n",
        "loader = PyPDFLoader(\"sample_data/sample_textbook.pdf\")\n",
        "pages = loader.load()"
      ],
      "metadata": {
        "id": "o4HE3JYeCARB"
      },
      "execution_count": 70,
      "outputs": []
    },
    {
      "cell_type": "code",
      "source": [
        "docs = text_splitter.split_documents(pages)"
      ],
      "metadata": {
        "id": "Qg57-GshCAbb"
      },
      "execution_count": 72,
      "outputs": []
    },
    {
      "cell_type": "code",
      "source": [
        "len(docs)"
      ],
      "metadata": {
        "colab": {
          "base_uri": "https://localhost:8080/"
        },
        "id": "WlyYw-TECAeO",
        "outputId": "56c8b183-a4ea-4f22-951d-33c175e1a709"
      },
      "execution_count": 73,
      "outputs": [
        {
          "output_type": "execute_result",
          "data": {
            "text/plain": [
              "189"
            ]
          },
          "metadata": {},
          "execution_count": 73
        }
      ]
    },
    {
      "cell_type": "code",
      "source": [
        "len(pages)"
      ],
      "metadata": {
        "colab": {
          "base_uri": "https://localhost:8080/"
        },
        "id": "vRdt5VuRCAg-",
        "outputId": "38e6a584-c4c0-4ed4-d596-a153f896a362"
      },
      "execution_count": 74,
      "outputs": [
        {
          "output_type": "execute_result",
          "data": {
            "text/plain": [
              "4"
            ]
          },
          "metadata": {},
          "execution_count": 74
        }
      ]
    },
    {
      "cell_type": "code",
      "source": [
        "print(pages[0])"
      ],
      "metadata": {
        "colab": {
          "base_uri": "https://localhost:8080/"
        },
        "id": "IyUB7IYWE7-N",
        "outputId": "12aebb58-64c2-458b-9091-874e2126d03f"
      },
      "execution_count": 75,
      "outputs": [
        {
          "output_type": "stream",
          "name": "stdout",
          "text": [
            "page_content='This is a sample document to\n",
            "showcase page-based formatting. It\n",
            "contains a chapter from a Wikibook\n",
            "called Sensory Systems. None of the\n",
            "content has been changed in this\n",
            "article, but some content has been\n",
            "removed.\n",
            "Anatomy of the Somatosensory System\n",
            "FROM WIKIBOOKS1\n",
            "Our somatosensory system consists of sensors in the skin\n",
            "and sensors in our muscles, tendons, and joints. The re-\n",
            "ceptors in the skin, the so called cutaneous receptors, tell\n",
            "us about temperature (thermoreceptors), pressure and sur-\n",
            "face texture (mechano receptors), and pain (nociceptors).\n",
            "The receptors in muscles and joints provide information\n",
            "about muscle length, muscle tension, and joint angles.\n",
            "Cutaneous receptors\n",
            "Sensory information from Meissner corpuscles and rapidly\n",
            "adapting afferents leads to adjustment of grip force when\n",
            "objects are lifted. These afferents respond with a brief\n",
            "burst of action potentials when objects move a small dis-\n",
            "tance during the early stages of lifting. In response to\n",
            "Figure 1: Receptors in the hu-\n",
            "man skin: Mechanoreceptors can\n",
            "be free receptors or encapsulated.\n",
            "Examples for free receptors are\n",
            "the hair receptors at the roots of\n",
            "hairs. Encapsulated receptors are\n",
            "the Pacinian corpuscles and the\n",
            "receptors in the glabrous (hair-\n",
            "less) skin: Meissner corpuscles,\n",
            "Ruffini corpuscles and Merkel’s\n",
            "disks.\n",
            "Hairy skinGlabrous skin\n",
            "Epidermis\n",
            "Dermis\n",
            "Paciniancorpuscle\n",
            "Papillary Ridges\n",
            "Septa\n",
            "Ruffini’s corpuscle\n",
            "Hair receptor\n",
            "Meissner’scorpuscleSebaceousgland\n",
            "Free nerveendingMerkel’sreceptor\n",
            "1 The following description is based on lecture notes from Laszlo Zaborszky, from Rutgers University.\n",
            "1' metadata={'producer': 'Prince 20150210 (www.princexml.com)', 'creator': 'PyPDF', 'creationdate': '', 'title': 'Anatomy of the Somatosensory System', 'source': 'sample_data/sample_textbook.pdf', 'total_pages': 4, 'page': 0, 'page_label': '1'}\n"
          ]
        }
      ]
    },
    {
      "cell_type": "markdown",
      "source": [
        "# Token-Based Text Splitting\n",
        "Token splitting is useful when dealing with LLMs, which often have context windows defined by tokens. Each token typically averages around 4 characters."
      ],
      "metadata": {
        "id": "-uWP6PHQCS-6"
      }
    },
    {
      "cell_type": "code",
      "source": [
        "from langchain.text_splitter import TokenTextSplitter"
      ],
      "metadata": {
        "id": "qyeiFfBMCAtC"
      },
      "execution_count": 76,
      "outputs": []
    },
    {
      "cell_type": "code",
      "source": [
        "# !pip install tiktoken"
      ],
      "metadata": {
        "id": "rk76-mEDFk-w"
      },
      "execution_count": 77,
      "outputs": []
    },
    {
      "cell_type": "code",
      "source": [
        "token_splitter = TokenTextSplitter(chunk_size=2, chunk_overlap=0)\n",
        "sample_text = \"Quantum computing is fascinating and highly complex. Understanding it requires patience and dedication.\"\n",
        "token_splitter.split_text(sample_text)\n",
        "\n",
        "token_splitter = TokenTextSplitter(chunk_size=15, chunk_overlap=0)\n",
        "split_text_docs = token_splitter.split_documents(pages)"
      ],
      "metadata": {
        "id": "DxcT3kysCXxA"
      },
      "execution_count": 79,
      "outputs": []
    },
    {
      "cell_type": "code",
      "source": [
        "split_text_docs[0]"
      ],
      "metadata": {
        "colab": {
          "base_uri": "https://localhost:8080/"
        },
        "id": "Iz-bWEPrCX0G",
        "outputId": "203651e9-6bf6-460d-a7ff-f719e41644e4"
      },
      "execution_count": 80,
      "outputs": [
        {
          "output_type": "execute_result",
          "data": {
            "text/plain": [
              "Document(metadata={'producer': 'Prince 20150210 (www.princexml.com)', 'creator': 'PyPDF', 'creationdate': '', 'title': 'Anatomy of the Somatosensory System', 'source': 'sample_data/sample_textbook.pdf', 'total_pages': 4, 'page': 0, 'page_label': '1'}, page_content='This is a sample document to\\nshowcase page-based formatting. It')"
            ]
          },
          "metadata": {},
          "execution_count": 80
        }
      ]
    },
    {
      "cell_type": "code",
      "source": [
        "pages[0].metadata"
      ],
      "metadata": {
        "colab": {
          "base_uri": "https://localhost:8080/"
        },
        "id": "jkRdm5G0CX3w",
        "outputId": "093614b3-e927-4ddf-a95b-46e671edb6c6"
      },
      "execution_count": 82,
      "outputs": [
        {
          "output_type": "execute_result",
          "data": {
            "text/plain": [
              "{'producer': 'Prince 20150210 (www.princexml.com)',\n",
              " 'creator': 'PyPDF',\n",
              " 'creationdate': '',\n",
              " 'title': 'Anatomy of the Somatosensory System',\n",
              " 'source': 'sample_data/sample_textbook.pdf',\n",
              " 'total_pages': 4,\n",
              " 'page': 0,\n",
              " 'page_label': '1'}"
            ]
          },
          "metadata": {},
          "execution_count": 82
        }
      ]
    },
    {
      "cell_type": "markdown",
      "source": [
        "# Context aware splitting\n",
        "Chunking aims to keep text with common context together.\n",
        "\n",
        "A text splitting often uses sentences or other delimiters to keep related text together but many documents (such as Markdown) have structure (headers) that can be explicitly used in splitting.\n",
        "\n",
        "We can use MarkdownHeaderTextSplitter to preserve header metadata in our chunks, as show below."
      ],
      "metadata": {
        "id": "FXT5qhacCljs"
      }
    },
    {
      "cell_type": "code",
      "source": [
        "from langchain.document_loaders import NotionDirectoryLoader\n",
        "from langchain.text_splitter import MarkdownHeaderTextSplitter"
      ],
      "metadata": {
        "id": "GKkWdqr6CX69"
      },
      "execution_count": 83,
      "outputs": []
    },
    {
      "cell_type": "code",
      "source": [
        "markdown_text = \"\"\"# Research Report\\n\\n \\\n",
        "## Introduction\\n\\n \\\n",
        "The purpose of this study is to explore the impacts of climate change on marine ecosystems. \\\n",
        "## Background\\n\\n \\\n",
        "Global temperatures are rising at unprecedented rates.\\n\\n \\\n",
        "### Causes\\n\\n \\\n",
        "Primarily due to greenhouse gas emissions.\\n\\n \\\n",
        "### Effects\\n\\n \\\n",
        "Rising sea levels, ocean acidification, and coral bleaching.\\n\\n \\\n",
        "## Conclusion\\n\\n \\\n",
        "Mitigation efforts must be accelerated to prevent irreversible damage.\"\"\""
      ],
      "metadata": {
        "id": "RShf7iRbCYII"
      },
      "execution_count": 84,
      "outputs": []
    },
    {
      "cell_type": "code",
      "source": [
        "headers_to_segment_on = [\n",
        "    (\"#\", \"Section 1\"),\n",
        "    (\"##\", \"Section 2\"),\n",
        "    (\"###\", \"Subsection\")\n",
        "]"
      ],
      "metadata": {
        "id": "qoKF5NRgCYL6"
      },
      "execution_count": 85,
      "outputs": []
    },
    {
      "cell_type": "code",
      "source": [
        "markdown_splitter = MarkdownHeaderTextSplitter(\n",
        "    headers_to_split_on=headers_to_segment_on\n",
        ")\n",
        "segmented_texts = markdown_splitter.split_text(markdown_text)"
      ],
      "metadata": {
        "id": "EFDoH2tUCvAv"
      },
      "execution_count": 86,
      "outputs": []
    },
    {
      "cell_type": "code",
      "source": [
        "segmented_texts[0]"
      ],
      "metadata": {
        "colab": {
          "base_uri": "https://localhost:8080/"
        },
        "id": "unKBvx3rCvEI",
        "outputId": "86c247eb-7c23-4ccb-b99e-519c1515c38a"
      },
      "execution_count": 87,
      "outputs": [
        {
          "output_type": "execute_result",
          "data": {
            "text/plain": [
              "Document(metadata={'Section 1': 'Research Report', 'Section 2': 'Introduction'}, page_content='The purpose of this study is to explore the impacts of climate change on marine ecosystems. ## Background  \\nGlobal temperatures are rising at unprecedented rates.')"
            ]
          },
          "metadata": {},
          "execution_count": 87
        }
      ]
    },
    {
      "cell_type": "code",
      "source": [
        "segmented_texts[1]"
      ],
      "metadata": {
        "colab": {
          "base_uri": "https://localhost:8080/"
        },
        "id": "fm8dLqjECxCy",
        "outputId": "81b8e44b-2be7-429e-86bb-df8e74fbd9d9"
      },
      "execution_count": 88,
      "outputs": [
        {
          "output_type": "execute_result",
          "data": {
            "text/plain": [
              "Document(metadata={'Section 1': 'Research Report', 'Section 2': 'Introduction', 'Subsection': 'Causes'}, page_content='Primarily due to greenhouse gas emissions.')"
            ]
          },
          "metadata": {},
          "execution_count": 88
        }
      ]
    },
    {
      "cell_type": "code",
      "source": [],
      "metadata": {
        "id": "8bQqAqxHJZ4c"
      },
      "execution_count": null,
      "outputs": []
    }
  ]
}